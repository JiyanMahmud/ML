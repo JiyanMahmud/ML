{
 "cells": [
  {
   "cell_type": "markdown",
   "metadata": {},
   "source": [
    "# Hidden Markov Models"
   ]
  },
  {
   "cell_type": "markdown",
   "metadata": {},
   "source": [
    "Hidden Markov Models (HMMs) are a class of probabilistic graphical model that allow us to predict a sequence of unknown (hidden) variables from a set of observed variables. \n",
    "\n",
    "An HMM is characterised by the following:\n",
    "\n",
    " - $X$ - states in the model\n",
    " - $y$ - the observations\n",
    " - $A = \\{a_{ij}\\}$ - the state transition probabilities\n",
    " - $B = \\{b_j (k)\\}$ - the observation probabilities\n",
    " - $\\pi$ - the initial state probabilities\n",
    "    \n",
    " \n",
    "\n",
    "The following figure shows a diagram of the probabilistic parameters of an HMM.\n",
    "<img src='img/hmm_diagram.png' width='500'/>\n",
    "\n",
    "There are three fundamental problems regarding HMMs:\n",
    "\n",
    "- **Problem 1 (Likelihood)**: given an HMM $\\lambda = (A,B)$ and an observation sequence O, determine the likelihood $P(O|\\lambda)$}.  \n",
    "- **Problem 2 (Decoding)**: given an HMM $\\lambda = (A,B)$ and an observation sequence O, discover the best hidden state sequence.\n",
    "- **Problem 3 (Learning)**: given an observation sequence O and the set of states in the HMM, learn the HMM parameters A and B.\n",
    "\n",
    "*Reference: https://en.wikipedia.org/wiki/Hidden_Markov_model*\n",
    "\n",
    "Based on the type of the observations, we can differentiate between HMMs with discrete observations, HMMs with continuous observations or a combination of the two. Our implementation can deal with multinomial and Gaussian observations. \n",
    "\n",
    "In the followings we provide examples for each type, with explanations on how to use the code in each case. "
   ]
  },
  {
   "cell_type": "code",
   "execution_count": 4,
   "metadata": {},
   "outputs": [],
   "source": [
    "#!pip install pyhhmm"
   ]
  },
  {
   "cell_type": "code",
   "execution_count": 2,
   "metadata": {},
   "outputs": [],
   "source": [
    "#fixing the seaboarn error\n",
    "\n",
    "import matplotlib.pyplot as plt\n",
    "\n",
    "# Save the original style.use function.\n",
    "_original_style_use = plt.style.use\n",
    "\n",
    "def patched_style_use(style, *args, **kwargs):\n",
    "    # If the code asks for 'seaborn-ticks', redirect to the available 'seaborn-v0_8-ticks'\n",
    "    if style == 'seaborn-ticks':\n",
    "        style = 'seaborn-v0_8-ticks'\n",
    "    return _original_style_use(style, *args, **kwargs)\n",
    "\n",
    "# Patch the function\n",
    "plt.style.use = patched_style_use\n"
   ]
  },
  {
   "cell_type": "code",
   "execution_count": 4,
   "metadata": {
    "ExecuteTime": {
     "end_time": "2020-03-10T12:21:51.305021Z",
     "start_time": "2020-03-10T12:21:50.330280Z"
    }
   },
   "outputs": [],
   "source": [
    "import numpy as np\n",
    "import pickle\n",
    "\n",
    "from pyhhmm.gaussian import GaussianHMM\n",
    "from pyhhmm.multinomial import MultinomialHMM\n",
    "from pyhhmm.heterogeneous import HeterogeneousHMM\n",
    "import pyhhmm.utils as hu\n",
    "\n",
    "%load_ext autoreload\n",
    "%autoreload 2"
   ]
  },
  {
   "cell_type": "markdown",
   "metadata": {},
   "source": [
    "# Multinomial HMM"
   ]
  },
  {
   "cell_type": "markdown",
   "metadata": {},
   "source": [
    "Consider the following example from the [Hidden Markov Models](https://web.stanford.edu/~jurafsky/slp3/A.pdf) chapter of **Speech and Language Processing** by Daniel Jurafsky & James H. Martin. All the illustrative images are taken from that source.\n",
    "\n",
    "A climatologist in 2799 is studying the history of global warming. He cannot find any weather records from Baltimore, Maryland, for summer 2020, but he finds Jason's diary, where it's listed how many ice creams he ate each day of that summer. The goal is to estimate whether it was a hot or cold day based on these observations. The following figure shows a possible HMM representation of this problem.\n",
    "\n",
    "<img src='img/discrete.png' width='600'/>\n",
    "\n",
    "The two hidden states (H and C) correspond to hot and cold weather, and the observations O = {1,2,3} correspond to the number of ice creams eaten by Jason on a given day. "
   ]
  },
  {
   "cell_type": "markdown",
   "metadata": {},
   "source": [
    "## Setting up the model"
   ]
  },
  {
   "cell_type": "markdown",
   "metadata": {},
   "source": [
    "The MultinomialHMM class uses the following arguments for initialisation:\n",
    "- *n_states* (int) - the number of hidden states\n",
    "- *n_emissions* (int) - the number of distinct observations\n",
    "- *n_features* (list) - a list containing the number of different symbols for each emission\n",
    "- *params* (string, optional) - controls which parameters are updated in the\n",
    "training process; defaults to all parameters\n",
    "- *init_params* (string, optional) - controls which parameters are initialised\n",
    "prior to training; defaults to all parameters\n",
    "- *init_type* (string, optional) - name of the initialisation\n",
    "method to use for initialising the model parameters before training\n",
    "- *pi_prior* (array, optional) - array of shape (n_states, ) setting the\n",
    "parameters of the Dirichlet prior distribution for 'pi'\n",
    "- *A_prior* (array, optional) - array of shape (n_states, n_states),\n",
    "giving the parameters of the Dirichlet prior distribution for each\n",
    "row of the transition probabilities 'A'\n",
    "- *learn_rate* (float, optional) - a value from the $[0,1)$ interval, controlling how much\n",
    "the past values of the model parameters count when computing the new\n",
    "model parameters during training; defaults to 0\n",
    "- *missing* (int or NaN, optional) - a value indicating what character indicates a missed\n",
    "observation in the observation sequences; defaults to NaN\n",
    "- *verbose* (bool, optional) - flag to be set to True if per-iteration\n",
    "convergence reports should be printed during training"
   ]
  },
  {
   "cell_type": "code",
   "execution_count": 6,
   "metadata": {
    "ExecuteTime": {
     "end_time": "2020-03-10T12:21:51.851959Z",
     "start_time": "2020-03-10T12:21:51.820358Z"
    }
   },
   "outputs": [
    {
     "name": "stdout",
     "output_type": "stream",
     "text": [
      "Priors\n",
      "+------------+------------+\n",
      "|     H      |     C      |\n",
      "+------------+------------+\n",
      "| P(H)=0.800 | P(C)=0.200 |\n",
      "+------------+------------+\n",
      "Transitions\n",
      "+---+--------------+--------------+\n",
      "| _ |      H       |      C       |\n",
      "+---+--------------+--------------+\n",
      "| H | P(H|H)=0.600 | P(C|H)=0.400 |\n",
      "| C | P(H|C)=0.500 | P(C|C)=0.500 |\n",
      "+---+--------------+--------------+\n",
      "Emissions\n",
      "+---+--------------+--------------+--------------+\n",
      "| _ |      1       |      2       |      3       |\n",
      "+---+--------------+--------------+--------------+\n",
      "| H | P(1|H)=0.200 | P(2|H)=0.400 | P(3|H)=0.400 |\n",
      "| C | P(1|C)=0.500 | P(2|C)=0.400 | P(3|C)=0.100 |\n",
      "+---+--------------+--------------+--------------+\n"
     ]
    }
   ],
   "source": [
    "states = ['H', 'C']\n",
    "observations = [[1, 2, 3]]\n",
    "\n",
    "# instantiate a MultinomialHMM object\n",
    "my_hmm = MultinomialHMM(\n",
    "    # number of hidden states (H and C)\n",
    "    n_states=2,     \n",
    "    # number of discrete emissions (how many ice creams Jason ate)\n",
    "    n_emissions=1,\n",
    "    # length of the observation alphabet (O = {1, 2, 3}, which becomes {0, 1, 2})\n",
    "    n_features=[3]\n",
    ")\n",
    "\n",
    "# we set model parameters according to the example\n",
    "# the initial state probabilities, array of shape (n_states, )\n",
    "my_hmm.pi = np.array([0.8, 0.2])\n",
    "# the state transition probabilities, array of shape (n_states, n_states)\n",
    "my_hmm.A = np.array([[0.6, 0.4], [0.5, 0.5]])\n",
    "# the emission probabilities, array of shape (n_emissions, ) x (n_states, n_features_i) for i = 0, ... len(n_features)-1\n",
    "my_hmm.B = np.array([[[0.2, 0.4, 0.4], [0.5, 0.4, 0.1]]])\n",
    "\n",
    "hu.pretty_print_hmm(my_hmm, states=states, emissions=observations)"
   ]
  },
  {
   "cell_type": "markdown",
   "metadata": {},
   "source": [
    "# Problem 1"
   ]
  },
  {
   "cell_type": "markdown",
   "metadata": {},
   "source": [
    "We want to determine the probability of an ice-cream observation sequence like 3 1 3, but we don’t know what the hidden state sequence is. In order to compute the likelihood, the *forward* function of the model can be called. This takes as argument:\n",
    "\n",
    "- *observation_sequence* (array) - an array of shape (n_samples, n_emissions) containing an observation sequence.\n",
    "\n",
    "And returns:\n",
    "    \n",
    "- *log_likelihood* (float) - log probability of the observation sequence.\n"
   ]
  },
  {
   "cell_type": "markdown",
   "metadata": {},
   "source": [
    "## Brute Force Method for HMM Likelihood\n",
    "\n",
    "### Goal\n",
    "\n",
    "Given an observation sequence (e.g., `3 1 3`), compute the total probability of seeing it under a Hidden Markov Model\n",
    "\n",
    "---\n",
    "\n",
    "###  Idea\n",
    "\n",
    "We don't know the hidden states, so we try **all possible hidden state sequences** and sum their probabilities.\n",
    "\n",
    "Let:\n",
    "- \\( O = (3, 1, 3) \\): observation sequence\n",
    "- \\( S = \\{H, C\\} \\): possible hidden states\n",
    "\n",
    "Number of possible hidden state sequences of length 3:  \n",
    "\\[\n",
    "2^3 = 8\n",
    "\\]\n",
    "\n",
    "We must evaluate all:\n",
    "\n",
    "1. H H H  \n",
    "2. H H C  \n",
    "3. H C H  \n",
    "4. H C C  \n",
    "5. C H H  \n",
    "6. C H C  \n",
    "7. C C H  \n",
    "8. C C C  \n",
    "\n",
    "---\n",
    "\n",
    "### 3.1.3. Brute-Force Calculation Over All Hidden State Sequences\n",
    "\n",
    "Given a 3-step observation sequence \\( O = (o_1, o_2, o_3) \\) and hidden states \\( s_1, s_2, s_3 \\), for **each** possible hidden state sequence \\( S = (s_1, s_2, s_3) \\):\n",
    "\n",
    "$$\n",
    "\\begin{aligned}\n",
    "P(O, S) \n",
    "&= P(s_1) \\; P(o_1 \\mid s_1) \\\\\n",
    "&\\quad \\times\\, P(s_2 \\mid s_1) \\; P(o_2 \\mid s_2) \\\\\n",
    "&\\quad \\times\\, P(s_3 \\mid s_2) \\; P(o_3 \\mid s_3).\n",
    "\\end{aligned}\n",
    "$$\n",
    "\n",
    "\n",
    "---\n",
    "\n",
    "### Summation Over All Hidden Sequences\n",
    "\n",
    "If there are \\(N\\) hidden states and the sequence length is \\(T\\), then there are \\(N^T\\) possible hidden-state sequences \\(S\\). We sum over *all* of them to get the total observation likelihood:\n",
    "\n",
    "$$\n",
    "P(O)\n",
    "= \n",
    "\\sum_{S \\;\\in\\;\\text{all hidden sequences}}\n",
    "P(O, S).\n",
    "$$\n",
    "\n",
    "\n",
    "### Why This Is Not a Good Idea\n",
    "\n",
    "- **Time complexity**: \\( O(N^T) \\), where:\n",
    "  - \\( N \\) = number of states\n",
    "  - \\( T \\) = length of observation sequence\n",
    "\n",
    "- Grows **exponentially** with sequence length:\n",
    "  - Length 10 → \\( 2^{10} = 1024 \\) combinations\n",
    "  - Length 100 → \\( 2^{100} \\) combinations 😵\n",
    "\n"
   ]
  },
  {
   "cell_type": "markdown",
   "metadata": {},
   "source": [
    "## Forward Algorithm - Hidden Markov Model\n",
    "\n",
    "Let:\n",
    "- \\( O = (o_1, o_2, \\dots, o_T) \\): Observation sequence  \n",
    "- \\( S = \\{H, C\\} \\): Set of hidden states  \n",
    "- \\( \\alpha_t(s) \\): Probability of observing the first \\( t \\) observations and being in state \\( s \\) at time \\( t \\)\n",
    "\n",
    "---\n",
    "\n",
    "### 🔹 Initialization (t = 1)\n",
    "\n",
    "$$\n",
    "\\alpha_1(s) = P(s) \\cdot P(o_1 \\mid s), \\quad \\text{for all } s \\in S\n",
    "$$\n",
    "\n",
    "---\n",
    "\n",
    "### 🔹 Recursion (t = 2 \\text{ to } T)\n",
    "\n",
    "$$\n",
    "\\alpha_t(s) = \\left[ \\sum_{s' \\in S} \\alpha_{t-1}(s') \\cdot P(s \\mid s') \\right] \\cdot P(o_t \\mid s)\n",
    "$$\n",
    "\n",
    "Where:\n",
    "- \\( s \\): current state at time \\( t \\)  \n",
    "- \\( s' \\): possible states at time \\( t-1 \\)  \n",
    "- \\( P(s \\mid s') \\): transition probability  \n",
    "- \\( P(o_t \\mid s) \\): emission probability  \n",
    "\n",
    "---\n",
    "\n",
    "### 🔹 Termination\n",
    "\n",
    "$$\n",
    "P(O) = \\sum_{s \\in S} \\alpha_T(s)\n",
    "$$\n",
    "\n",
    "This gives the total **likelihood** of observing the sequence \\( O \\).\n"
   ]
  },
  {
   "cell_type": "code",
   "execution_count": 43,
   "metadata": {
    "ExecuteTime": {
     "end_time": "2020-03-10T12:21:52.511640Z",
     "start_time": "2020-03-10T12:21:52.483049Z"
    }
   },
   "outputs": [],
   "source": [
    "# all the values from the given example are decreased by one, because the model uses 0 as the first possible observation symbol\n",
    "observation_sequence = np.array([[2], [0], [2]])\n",
    "\n",
    "# The returned value is the log of the probability, i.e: log P(O|model), so in order to get P(O|model) just compute the exp\n",
    "print('P(3 1 3) = {:.4f}'.format(np.exp(my_hmm.forward(observation_sequence))))"
   ]
  },
  {
   "cell_type": "markdown",
   "metadata": {},
   "source": [
    "## Problem 2"
   ]
  },
  {
   "cell_type": "markdown",
   "metadata": {},
   "source": [
    "In the ice-cream domain, given a sequence of ice-cream observations 3 1 3 and an HMM, the task of the decoder is to find the best hidden weather sequence (H C H). \n",
    "\n",
    "For this task the most commonly used method is the Viterbi algorithm. We also implemented the MAP approach. The *decode* function of the model can be called. This takes as arguments:\n",
    "    \n",
    "- *observation_sequences* (list) - a list of arrays of shape (n_samples, n_emissions) containing one or more observation sequences of different lengths\n",
    "- *algorithm* (string, optional) - name of the decoder algorithm to use; can be 'viterbi' or 'map'; defaults to 'viterbi'.\n",
    "    \n",
    "    \n",
    "And returns:\n",
    "\n",
    "- *log_likelihood* (float) - log probability of the produced state sequence.\n",
    "- *state_sequences* (list) - list of arrays containing labels for each observation from observation_sequences obtained via the given decoder algorithm."
   ]
  },
  {
   "cell_type": "markdown",
   "metadata": {},
   "source": [
    "## Viterbi Algorithm - Ice Cream Example\n",
    "\n",
    "We have:\n",
    "- **States**: \\(H\\) (Hot), \\(C\\) (Cold)\n",
    "- **Observations**: \\( (o_1, o_2, o_3) = (3, 1, 3) \\)\n",
    "- **Initial Probabilities**:\n",
    "  $$\n",
    "  P(H) = 0.8, \n",
    "  \\quad \n",
    "  P(C) = 0.2\n",
    "  $$\n",
    "- **Transition Probabilities**:\n",
    "  $$\n",
    "  P(H \\mid H) = 0.6, \\quad P(C \\mid H) = 0.4,\n",
    "  \\quad\n",
    "  P(H \\mid C) = 0.5, \\quad P(C \\mid C) = 0.5\n",
    "  $$\n",
    "- **Emission Probabilities**:\n",
    "  $$\n",
    "  P(3 \\mid H) = 0.4, \\quad P(1 \\mid H) = 0.2,\n",
    "  \\quad\n",
    "  P(3 \\mid C) = 0.1, \\quad P(1 \\mid C) = 0.5\n",
    "  $$\n",
    "\n",
    "---\n",
    "\n",
    "### 1) Definition of the Viterbi Variable\n",
    "\n",
    "$$\n",
    "\\delta_t(s) \n",
    "\\;=\\;\n",
    "\\max_{s_1, \\dots, s_{t-1}}\n",
    "P(s_1, \\dots, s_{t-1}, s_t = s,\\;\\; o_1, \\dots, o_t),\n",
    "$$\n",
    "\n",
    "which is the **maximum probability** of any single path ending in state \\(s\\) at time \\(t\\) while emitting the observations.\n",
    "\n",
    "The **recurrence** is:\n",
    "\n",
    "$$\n",
    "\\delta_t(s)\n",
    "\\;=\\;\n",
    "\\biggl[\n",
    "\\max_{s' \\in \\{H, C\\}}\n",
    "\\delta_{t-1}(s')\n",
    "\\,P(s \\mid s')\n",
    "\\biggr]\n",
    "\\,\\times\\,\n",
    "P(o_t \\mid s).\n",
    "$$\n",
    "\n",
    "We also store a **backpointer** \\(\\psi_t(s)\\) that notes which \\(s'\\) gave us the maximum.\n",
    "\n",
    "---\n"
   ]
  },
  {
   "cell_type": "code",
   "execution_count": 61,
   "metadata": {
    "ExecuteTime": {
     "end_time": "2020-03-10T12:21:53.168224Z",
     "start_time": "2020-03-10T12:21:53.137630Z"
    }
   },
   "outputs": [],
   "source": [
    "# logL, state_seq = my_hmm.decode([observation_sequence], algorithm='viterbi')\n",
    "# print('The Viterbi state sequence: {}'.format([states[si] for si in state_seq[0]]))\n",
    "\n"
   ]
  },
  {
   "cell_type": "markdown",
   "metadata": {},
   "source": [
    "## Problem 3\n",
    "\n",
    "Having the sequance but not having the parameters\n",
    "## HMM Parameter Learning Problem (via Baum–Welch)\n",
    "\n",
    "1. **Generate Observation Sequences from a Known Model**  \n",
    "   - We have a \"true\" or \"generator\" Hidden Markov Model (HMM) with **known** parameters (initial probabilities, transition matrix, emission matrix).\n",
    "   - We use this model to **simulate** or **sample** observation sequences. \n",
    "     - For example, these might be sequences of ice-cream observations (3, 1, 3), (2, 1, 2), etc.\n",
    "\n",
    "2. **Create a New Model with Random Parameters**  \n",
    "   - We define another HMM with the **same** set of states and possible observations but **random** initial parameters.\n",
    "   - For instance, we randomly initialize:\n",
    "     - Initial state probabilities\n",
    "     - Transition probabilities between states\n",
    "     - Emission probabilities for each state\n",
    "\n",
    "3. **Train/Fit the New Model Using Baum–Welch**  \n",
    "   - Baum–Welch is an **EM (Expectation–Maximization)** algorithm specialized for HMMs.\n",
    "   - **Key Steps**:\n",
    "     1. **E-step**: Using the current model parameters, compute the \"expected counts\" of each transition and emission across all the observation sequences (often via Forward–Backward calculations).\n",
    "     2. **M-step**: Update (re-estimate) the model parameters (transition and emission probabilities) based on these expected counts.\n",
    "   - Repeat until **convergence**.\n",
    "\n",
    "4. **Goal**  \n",
    "   - The learned model (after Baum–Welch) should have parameters that maximize the likelihood of the **generated** observation sequences.\n",
    "   - Ideally, if there is enough data, these learned parameters will approach the **original** (generator) HMM parameters.\n"
   ]
  },
  {
   "cell_type": "code",
   "execution_count": 102,
   "metadata": {
    "ExecuteTime": {
     "end_time": "2020-03-10T12:21:59.565454Z",
     "start_time": "2020-03-10T12:21:53.798492Z"
    }
   },
   "outputs": [
    {
     "name": "stdout",
     "output_type": "stream",
     "text": [
      "Initialisation 1\n",
      "iter: 0, log_likelihood = -4904.101582524079, delta = nan\n",
      "iter: 1, log_likelihood = -4878.213010356804, delta = 25.888572167275015\n",
      "iter: 2, log_likelihood = -4877.1995540116795, delta = 1.0134563451247232\n",
      "iter: 3, log_likelihood = -4876.559948880489, delta = 0.6396051311903648\n",
      "iter: 4, log_likelihood = -4876.05178381622, delta = 0.5081650642687237\n",
      "iter: 5, log_likelihood = -4875.646735621464, delta = 0.4050481947560911\n",
      "iter: 6, log_likelihood = -4875.321488144351, delta = 0.3252474771134075\n",
      "iter: 7, log_likelihood = -4875.05785251843, delta = 0.26363562592086964\n",
      "iter: 8, log_likelihood = -4874.842001820166, delta = 0.21585069826414838\n",
      "iter: 9, log_likelihood = -4874.663493132059, delta = 0.1785086881072857\n",
      "iter: 10, log_likelihood = -4874.514431947162, delta = 0.14906118489670916\n",
      "iter: 11, log_likelihood = -4874.388820093242, delta = 0.12561185391950858\n",
      "iter: 12, log_likelihood = -4874.282065946136, delta = 0.10675414710658515\n",
      "iter: 13, log_likelihood = -4874.190623333535, delta = 0.09144261260098574\n",
      "iter: 14, log_likelihood = -4874.111727420107, delta = 0.07889591342791391\n",
      "Converged -> iter: 14, log_likelihood = -4874.111727420107\n"
     ]
    },
    {
     "data": {
      "image/png": "[encoded data removed]",
      "text/plain": [
       "<Figure size 700x500 with 1 Axes>"
      ]
     },
     "metadata": {},
     "output_type": "display_data"
    }
   ],
   "source": [
    "# generate observation sequences of different lengths\n",
    "lengths = np.random.randint(25, 150, size=50)\n",
    "X = [\n",
    "    my_hmm.sample(n_sequences=1, n_samples=n_samples)[0] for n_samples in lengths\n",
    "]\n",
    "\n",
    "# instantiate a MultinomialHMM object\n",
    "trained_hmm = MultinomialHMM(\n",
    "    # number of hidden states (H and C)\n",
    "    n_states=2,     \n",
    "    # number of discrete emissions (how many ice creams Jason ate)\n",
    "    n_emissions=1,\n",
    "    # length of the observation alphabet (O = {1, 2, 3}, which becomes {0, 1, 2})\n",
    "    n_features=[3],\n",
    "    # prior for the start probabilities\n",
    "    pi_prior=np.array([5, 1]),\n",
    "    # type of initialisation to use; can be 'uniform' or 'random'\n",
    "    init_type='random'\n",
    ")\n",
    "\n",
    "# reinitialise the parameters and see if we can re-learn them\n",
    "trained_hmm, log_likelihoods = trained_hmm.train(\n",
    "    X,\n",
    "    n_init=1,     # no. of initialisations - we only do it once this time; if multiple initialisations are used, the model with the best log-likelihood will be returned\n",
    "    n_iter=100,   # maximum no. of iterations to use\n",
    "    conv_thresh=1e-04,   # convergence threshold (in this case if the change in consecutive log-likelihood is < 0.1%)\n",
    "    conv_iter=10,  # no. of iterations for which the convergence criteria should hold before stopping\n",
    "    plot_log_likelihood=True, # if we want a plot of the log-likelihood evolution over the iterations\n",
    ")"
   ]
  },
  {
   "cell_type": "markdown",
   "metadata": {},
   "source": [
    "Now if we look at the model parameters, we can see that using only 25 sequences of  25 - 150 samples leads to a quite accurate estimation of the parameters of the generator HMM. (Note that the order of states is swapped)."
   ]
  },
  {
   "cell_type": "code",
   "execution_count": 67,
   "metadata": {
    "ExecuteTime": {
     "end_time": "2020-03-10T12:21:59.596219Z",
     "start_time": "2020-03-10T12:21:59.567175Z"
    }
   },
   "outputs": [
    {
     "name": "stdout",
     "output_type": "stream",
     "text": [
      "Priors\n",
      "+------------+------------+\n",
      "|     H      |     C      |\n",
      "+------------+------------+\n",
      "| P(H)=0.800 | P(C)=0.200 |\n",
      "+------------+------------+\n",
      "Transitions\n",
      "+---+--------------+--------------+\n",
      "| _ |      H       |      C       |\n",
      "+---+--------------+--------------+\n",
      "| H | P(H|H)=0.600 | P(C|H)=0.400 |\n",
      "| C | P(H|C)=0.500 | P(C|C)=0.500 |\n",
      "+---+--------------+--------------+\n",
      "Emissions\n",
      "+---+--------------+--------------+--------------+\n",
      "| _ |      1       |      2       |      3       |\n",
      "+---+--------------+--------------+--------------+\n",
      "| H | P(1|H)=0.200 | P(2|H)=0.400 | P(3|H)=0.400 |\n",
      "| C | P(1|C)=0.500 | P(2|C)=0.400 | P(3|C)=0.100 |\n",
      "+---+--------------+--------------+--------------+\n"
     ]
    }
   ],
   "source": [
    "hu.pretty_print_hmm(my_hmm, states=states, emissions=observations)"
   ]
  },
  {
   "cell_type": "code",
   "execution_count": 100,
   "metadata": {},
   "outputs": [
    {
     "name": "stdout",
     "output_type": "stream",
     "text": [
      "Priors\n",
      "+------------+------------+\n",
      "|     H      |     C      |\n",
      "+------------+------------+\n",
      "| P(H)=0.547 | P(C)=0.453 |\n",
      "+------------+------------+\n",
      "Transitions\n",
      "+---+--------------+--------------+\n",
      "| _ |      H       |      C       |\n",
      "+---+--------------+--------------+\n",
      "| H | P(H|H)=0.436 | P(C|H)=0.564 |\n",
      "| C | P(H|C)=0.464 | P(C|C)=0.536 |\n",
      "+---+--------------+--------------+\n",
      "Emissions\n",
      "+---+--------------+--------------+--------------+\n",
      "| _ |      1       |      2       |      3       |\n",
      "+---+--------------+--------------+--------------+\n",
      "| H | P(1|H)=0.409 | P(2|H)=0.137 | P(3|H)=0.455 |\n",
      "| C | P(1|C)=0.277 | P(2|C)=0.588 | P(3|C)=0.135 |\n",
      "+---+--------------+--------------+--------------+\n"
     ]
    }
   ],
   "source": [
    "hu.pretty_print_hmm(trained_hmm, states=states, emissions=observations)"
   ]
  },
  {
   "cell_type": "markdown",
   "metadata": {},
   "source": [
    "# Gaussian HMM"
   ]
  },
  {
   "cell_type": "markdown",
   "metadata": {},
   "source": [
    "Source of example: https://hmmlearn.readthedocs.io/en/0.2.0/auto_examples/plot_hmm_sampling.html#sphx-glr-auto-examples-plot-hmm-sampling-py. \n",
    "\n",
    "Consider an HMM with Gaussian emissions, 4 hidden states with specified mean and covariance. The following figure shows shows some samples drawn from the model with the corresponding transitions. \n",
    "\n",
    "<img src='img/gauss_hmm_samples.png' width='600'/>"
   ]
  },
  {
   "cell_type": "markdown",
   "metadata": {},
   "source": [
    "## Differences Between Discrete HMM and Gaussian HMM\n",
    "\n",
    "1. **Observation Type**  \n",
    "   - **Discrete HMM**: Observations come from a **finite, discrete set** (e.g., \\(\\{1,2,3\\}\\), letters \\(\\{A,B,C,\\dots\\}\\), etc.).  \n",
    "     Each hidden state has a **categorical (multinomial) distribution** over these discrete symbols.\n",
    "   - **Gaussian HMM**: Observations are **continuous** (real-valued).  \n",
    "     Each hidden state is associated with a (multivariate) **Gaussian** distribution, characterized by a mean vector \\(\\boldsymbol{\\mu}_s\\) and a covariance matrix \\(\\Sigma_s\\).\n",
    "\n",
    "2. **Emission Parameterization**  \n",
    "   - **Discrete HMM**: Stores a **probability table** for each state, such that\n",
    "     \\[\n",
    "     P(o \\mid s) = \\theta_{s,o} \\quad\\text{(where \\(o\\) is a discrete symbol).}\n",
    "     \\]\n",
    "   - **Gaussian HMM**: Stores **continuous distribution parameters** (mean and covariance) for each state, such that\n",
    "     \\[\n",
    "     P(\\mathbf{x} \\mid s) \n",
    "     = \\mathcal{N}(\\mathbf{x}\\,;\\,\\boldsymbol{\\mu}_s, \\Sigma_s).\n",
    "     \\]\n",
    "\n",
    "3. **Use Cases**  \n",
    "   - **Discrete HMM**: Natural for observations that are inherently discrete (e.g., word tokens, DNA nucleotides, or integer-coded events).  \n",
    "   - **Gaussian HMM**: Common for **speech recognition**, **signal processing**, and other domains where observations are real-valued feature vectors (e.g., audio features, sensor measurements).\n",
    "\n",
    "4. **Training and Inference**  \n",
    "   - Both use similar **Forward–Backward** / **Baum–Welch** algorithms, but **emission probability** computations differ:\n",
    "     - In a **discrete** HMM, you accumulate **symbol counts** during the E-step.\n",
    "     - In a **Gaussian** HMM, you accumulate **sufficient statistics** (sums, sums of outer products) to update means and covariances in the M-step.\n",
    "   - The **core HMM framework** (hidden states, transition probabilities, decoding with Viterbi, etc.) is identical; the difference lies in **how you model and compute** the emission probabilities (discrete vs. continuous).\n"
   ]
  },
  {
   "cell_type": "markdown",
   "metadata": {},
   "source": [
    "## Setting up the model"
   ]
  },
  {
   "cell_type": "markdown",
   "metadata": {},
   "source": [
    "The GaussianHMM class uses the following arguments for initialisation:\n",
    "\n",
    "- *n_states* (int) - the number of hidden states\n",
    "- *n_emissions* (int) - the number of distinct Gaussian observations\n",
    "- *params* (string, optional) - controls which parameters are updated in the training process; defaults to all parameters\n",
    "- *init_params* (string, optional) - controls which parameters are initialised prior to training; defaults to all parameters\n",
    "- *init_type* (string, optional) - name of the initialisation method to use for initialising the model parameters before training; can be 'random' or 'kmeans'\n",
    "- *covariance_type* (string, optional) - string describing the type of covariance parameters to use.  Must be one of: 'diagonal', 'full', 'spherical' or 'tied'; defaults to 'diagonal'\n",
    "- *pi_prior* (array, optional) - array of shape (n_states, ) setting the parameters of the Dirichlet prior distribution for 'pi'\n",
    "- *A_prior* (array, optional) - array of shape (n_states, n_states), giving the parameters of the Dirichlet prior distribution for each row of the transition probabilities 'A'\n",
    "- *means_prior, means_weight* (array, optional) - arrays of shape (n_states, 1) providing the mean and precision of the Normal prior distribution for the means\n",
    "- *covars_prior, covars_weight* (array, optional) - shape (n_states, 1), provides the parameters of the prior distribution for the covariance matrix\n",
    "- *min_covar* (float, optional)- floor on the diagonal of the covariance matrix to prevent overfitting. Defaults to 1e-3.\n",
    "- *learn_rate* (float, optional) - a value from the $[0,1)$ interval, controlling how much the past values of the model parameters count when computing the new model parameters during training; defaults to 0\n",
    "- *verbose* (bool, optional) - flag to be set to True if per-iteration convergence reports should be printed during training\n"
   ]
  },
  {
   "cell_type": "code",
   "execution_count": 109,
   "metadata": {
    "ExecuteTime": {
     "end_time": "2020-03-10T12:21:59.632169Z",
     "start_time": "2020-03-10T12:21:59.599123Z"
    }
   },
   "outputs": [
    {
     "name": "stdout",
     "output_type": "stream",
     "text": [
      "Priors\n",
      "+--------------+--------------+--------------+--------------+\n",
      "|     S_0      |     S_1      |     S_2      |     S_3      |\n",
      "+--------------+--------------+--------------+--------------+\n",
      "| P(S_0)=0.600 | P(S_1)=0.300 | P(S_2)=0.100 | P(S_3)=0.000 |\n",
      "+--------------+--------------+--------------+--------------+\n",
      "Transitions\n",
      "+-----+------------------+------------------+------------------+------------------+\n",
      "|  _  |       S_0        |       S_1        |       S_2        |       S_3        |\n",
      "+-----+------------------+------------------+------------------+------------------+\n",
      "| S_0 | P(S_0|S_0)=0.700 | P(S_1|S_0)=0.200 | P(S_2|S_0)=0.000 | P(S_3|S_0)=0.100 |\n",
      "| S_1 | P(S_0|S_1)=0.300 | P(S_1|S_1)=0.500 | P(S_2|S_1)=0.200 | P(S_3|S_1)=0.000 |\n",
      "| S_2 | P(S_0|S_2)=0.000 | P(S_1|S_2)=0.300 | P(S_2|S_2)=0.500 | P(S_3|S_2)=0.200 |\n",
      "| S_3 | P(S_0|S_3)=0.200 | P(S_1|S_3)=0.000 | P(S_2|S_3)=0.200 | P(S_3|S_3)=0.600 |\n",
      "+-----+------------------+------------------+------------------+------------------+\n",
      "Means\n",
      "+-----+--------+--------+\n",
      "|  _  |  E_0   |  E_1   |\n",
      "+-----+--------+--------+\n",
      "| S_0 | 0.000  | 0.000  |\n",
      "| S_1 | 0.000  | 11.000 |\n",
      "| S_2 | 9.000  | 10.000 |\n",
      "| S_3 | 11.000 | -1.000 |\n",
      "+-----+--------+--------+\n",
      "Covariances\n",
      "S_0\n",
      "+-----+-------+-------+\n",
      "|  _  |  E_0  |  E_1  |\n",
      "+-----+-------+-------+\n",
      "| E_0 | 0.500 | 0.000 |\n",
      "| E_1 | 0.000 | 0.500 |\n",
      "+-----+-------+-------+\n",
      "S_1\n",
      "+-----+-------+-------+\n",
      "|  _  |  E_0  |  E_1  |\n",
      "+-----+-------+-------+\n",
      "| E_0 | 0.500 | 0.000 |\n",
      "| E_1 | 0.000 | 0.500 |\n",
      "+-----+-------+-------+\n",
      "S_2\n",
      "+-----+-------+-------+\n",
      "|  _  |  E_0  |  E_1  |\n",
      "+-----+-------+-------+\n",
      "| E_0 | 0.500 | 0.000 |\n",
      "| E_1 | 0.000 | 0.500 |\n",
      "+-----+-------+-------+\n",
      "S_3\n",
      "+-----+-------+-------+\n",
      "|  _  |  E_0  |  E_1  |\n",
      "+-----+-------+-------+\n",
      "| E_0 | 0.500 | 0.000 |\n",
      "| E_1 | 0.000 | 0.500 |\n",
      "+-----+-------+-------+\n"
     ]
    }
   ],
   "source": [
    "# instantiate a MultinomialHMM object\n",
    "my_hmm = GaussianHMM(\n",
    "    n_states=4,\n",
    "    n_emissions=2,\n",
    "    covariance_type='diagonal'\n",
    ")\n",
    "\n",
    "# we set model parameters according to the example\n",
    "# the initial state probabilities, array of shape (n_states, )\n",
    "my_hmm.pi = np.array([0.6, 0.3, 0.1, 0.0])\n",
    "# the state transition probabilities, array of shape (n_states, n_states)\n",
    "my_hmm.A = np.array(\n",
    "    [\n",
    "        [0.7, 0.2, 0.0, 0.1],\n",
    "        [0.3, 0.5, 0.2, 0.0],\n",
    "        [0.0, 0.3, 0.5, 0.2],\n",
    "        [0.2, 0.0, 0.2, 0.6],\n",
    "    ]\n",
    ")\n",
    "# the means of each component\n",
    "my_hmm.means = np.array([[0.0, 0.0], [0.0, 11.0], [9.0, 10.0], [11.0, -1.0]])\n",
    "\n",
    "# the covariance of each component - shape depends `covariance_type`\n",
    "#             (n_states, )                          if 'spherical',\n",
    "#             (n_states, n_emissions)               if 'diagonal',\n",
    "#             (n_states, n_emissions, n_emissions)  if 'full'\n",
    "#             (n_emissions, n_emissions)            if 'tied'\n",
    "my_hmm.covars = 0.5 * np.ones((4, 2))  # diagonal covariance matrix\n",
    "\n",
    "hu.pretty_print_hmm(my_hmm, hmm_type='Gaussian')"
   ]
  },
  {
   "cell_type": "markdown",
   "metadata": {},
   "source": [
    "## Problem 3"
   ]
  },
  {
   "cell_type": "markdown",
   "metadata": {},
   "source": [
    "For this task, similarly like in the discrete HMM case, we first generate some observation sequences from the model, after we will create a model, in which the parameters are initialised randomly and try to learn the generator's parameters from the observation sequences."
   ]
  },
  {
   "cell_type": "code",
   "execution_count": 8,
   "metadata": {
    "ExecuteTime": {
     "end_time": "2020-03-10T12:22:34.297900Z",
     "start_time": "2020-03-10T12:21:59.634262Z"
    }
   },
   "outputs": [
    {
     "data": {
      "image/png": "[encoded data removed]",
      "text/plain": [
       "<Figure size 504x360 with 1 Axes>"
      ]
     },
     "metadata": {},
     "output_type": "display_data"
    }
   ],
   "source": [
    "# generate observation sequences of different lengths\n",
    "lengths = np.random.randint(25, 150, size=25)\n",
    "X = [\n",
    "    my_hmm.sample(n_sequences=1, n_samples=n_samples)[0] for n_samples in lengths\n",
    "]\n",
    "\n",
    "# instantiate a MultinomialHMM object\n",
    "trained_hmm = GaussianHMM(\n",
    "    # number of hidden states\n",
    "    n_states=4,\n",
    "    # number of distinct emissions\n",
    "    n_emissions=2,\n",
    "    # can be 'diagonal', 'full', 'spherical', 'tied'\n",
    "    covariance_type='diagonal',\n",
    "    verbose=False\n",
    ")\n",
    "\n",
    "# reinitialise the parameters and see if we can re-learn them\n",
    "trained_hmm, log_likelihoods = trained_hmm.train(\n",
    "    X,\n",
    "    n_init=1,     # number of initialisations to perform\n",
    "    n_iter=100,   # maximum number of iterations to run\n",
    "    conv_thresh=0.001,  # what percentage of change in the log-likelihood between iterations is considered convergence\n",
    "    conv_iter=5,  # for how many iterations does it have to hold\n",
    "    # whether to plot the evolution of the log-likelihood over the iterations\n",
    "    plot_log_likelihood=True,\n",
    "    # set to True if want to train until maximum number of iterations is reached\n",
    "    ignore_conv_crit=False,\n",
    "    no_init=False,  # set to True if the model parameters shouldn't be re-initialised befor training; in this case they have to be set manually first, otherwise errors occur\n",
    ")"
   ]
  },
  {
   "cell_type": "markdown",
   "metadata": {},
   "source": [
    "Now if we look at the model parameters, we can see that using only 25 sequences of  25 - 150 samples leads to a quite accurate estimation of the parameters of the generator HMM. (Note that the order of states is swapped)."
   ]
  },
  {
   "cell_type": "code",
   "execution_count": 9,
   "metadata": {
    "ExecuteTime": {
     "end_time": "2020-03-10T12:22:34.332174Z",
     "start_time": "2020-03-10T12:22:34.299494Z"
    }
   },
   "outputs": [
    {
     "name": "stdout",
     "output_type": "stream",
     "text": [
      "Priors\n",
      "+--------------+--------------+--------------+--------------+\n",
      "|     S_0      |     S_1      |     S_2      |     S_3      |\n",
      "+--------------+--------------+--------------+--------------+\n",
      "| P(S_0)=0.480 | P(S_1)=0.320 | P(S_2)=0.200 | P(S_3)=0.000 |\n",
      "+--------------+--------------+--------------+--------------+\n",
      "Transitions\n",
      "+-----+------------------+------------------+------------------+------------------+\n",
      "|  _  |       S_0        |       S_1        |       S_2        |       S_3        |\n",
      "+-----+------------------+------------------+------------------+------------------+\n",
      "| S_0 | P(S_0|S_0)=0.647 | P(S_1|S_0)=0.199 | P(S_2|S_0)=0.026 | P(S_3|S_0)=0.127 |\n",
      "| S_1 | P(S_0|S_1)=0.303 | P(S_1|S_1)=0.448 | P(S_2|S_1)=0.213 | P(S_3|S_1)=0.036 |\n",
      "| S_2 | P(S_0|S_2)=0.050 | P(S_1|S_2)=0.336 | P(S_2|S_2)=0.439 | P(S_3|S_2)=0.175 |\n",
      "| S_3 | P(S_0|S_3)=0.192 | P(S_1|S_3)=0.045 | P(S_2|S_3)=0.185 | P(S_3|S_3)=0.578 |\n",
      "+-----+------------------+------------------+------------------+------------------+\n",
      "Means\n",
      "+-----+--------+--------+\n",
      "|  _  |  E_0   |  E_1   |\n",
      "+-----+--------+--------+\n",
      "| S_0 | -0.019 | 0.000  |\n",
      "| S_1 | -0.037 | 11.027 |\n",
      "| S_2 | 8.915  | 10.001 |\n",
      "| S_3 | 10.921 | -1.025 |\n",
      "+-----+--------+--------+\n",
      "Covariances\n",
      "S_0\n",
      "+-----+-------+-------+\n",
      "|  _  |  E_0  |  E_1  |\n",
      "+-----+-------+-------+\n",
      "| E_0 | 0.505 | 0.000 |\n",
      "| E_1 | 0.000 | 0.529 |\n",
      "+-----+-------+-------+\n",
      "S_1\n",
      "+-----+-------+-------+\n",
      "|  _  |  E_0  |  E_1  |\n",
      "+-----+-------+-------+\n",
      "| E_0 | 0.530 | 0.000 |\n",
      "| E_1 | 0.000 | 0.475 |\n",
      "+-----+-------+-------+\n",
      "S_2\n",
      "+-----+-------+-------+\n",
      "|  _  |  E_0  |  E_1  |\n",
      "+-----+-------+-------+\n",
      "| E_0 | 0.568 | 0.000 |\n",
      "| E_1 | 0.000 | 0.537 |\n",
      "+-----+-------+-------+\n",
      "S_3\n",
      "+-----+-------+-------+\n",
      "|  _  |  E_0  |  E_1  |\n",
      "+-----+-------+-------+\n",
      "| E_0 | 0.508 | 0.000 |\n",
      "| E_1 | 0.000 | 0.515 |\n",
      "+-----+-------+-------+\n"
     ]
    }
   ],
   "source": [
    "hu.pretty_print_hmm(trained_hmm, hmm_type='Gaussian')"
   ]
  },
  {
   "cell_type": "markdown",
   "metadata": {},
   "source": [
    "# HMM with labels"
   ]
  },
  {
   "cell_type": "markdown",
   "metadata": {},
   "source": [
    "## Loading the training data"
   ]
  },
  {
   "cell_type": "markdown",
   "metadata": {},
   "source": [
    "The Heterogeneous HMM or HMM with labels is helpful when we desire to use an Hidden Markov Model but we want to have different types of distributions managing each of the possible observations.\n",
    "\n",
    "To illustrate this case, we are gonna train an HMM to manage the activity level of an user (a simple HAR problem) by using data collected from his smartphone. Four different types of data are going to be used during training and prediction:\n",
    "\n",
    "- Actigraphy data: it is a continuous signal (it is computed by integrating the three axes of the acceleromenter) that represents the movement of the smartphone.\n",
    "\n",
    "- Light data: it is also a continous signal that represent the ambient light (it is obtainned from the light sensor of the smartphone).\n",
    "\n",
    "- App usage data: this is a binary signal that represent if the user is using (1) or not (0) the smartphone.\n",
    "\n",
    "- Fitbit sleep data: this is also a binary signal, where the 1 represent that the fitbit wearable reports that the user is sleep and 0 that he/she is not.\n",
    "\n",
    "To train the model we have sequences of 24 hours where, at every time instant, we have three different features/observations: the actigraphy, the light and the app usage data points. **It is important to understand that the model, throught the EM algorithm, supports partial or complete missing data**, which means that some of the features or all of them could be missing data points.\n",
    "\n",
    "*An example of one of the sequences used to train the data can be seen in the next image*: it can be seen that, for the light sensor, most of the data is not available, which will be managed by the model thanks to the missing data support.\n",
    "\n",
    "<img src='img/heterogeneous_samples.png' width='600'/>\n",
    "\n",
    "Given the nature of this data, we will use gaussians to manage the actigraphy and light signals and a binary distribution to manage the app usage (if the data had more than two categories, a categorical distribution could be used).\n",
    "\n",
    "With all this data we are going to train a simple Heterogeneous-HMM (where the labels are the app usage and fitbit data) with two states.\n"
   ]
  },
  {
   "cell_type": "code",
   "execution_count": 112,
   "metadata": {
    "ExecuteTime": {
     "end_time": "2020-03-10T12:40:31.940283Z",
     "start_time": "2020-03-10T12:40:31.900935Z"
    }
   },
   "outputs": [
    {
     "data": {
      "text/html": [
       "<div>\n",
       "<style scoped>\n",
       "    .dataframe tbody tr th:only-of-type {\n",
       "        vertical-align: middle;\n",
       "    }\n",
       "\n",
       "    .dataframe tbody tr th {\n",
       "        vertical-align: top;\n",
       "    }\n",
       "\n",
       "    .dataframe thead th {\n",
       "        text-align: right;\n",
       "    }\n",
       "</style>\n",
       "<table border=\"1\" class=\"dataframe\">\n",
       "  <thead>\n",
       "    <tr style=\"text-align: right;\">\n",
       "      <th></th>\n",
       "      <th>seq_no</th>\n",
       "      <th>date</th>\n",
       "      <th>actigraphy</th>\n",
       "      <th>light</th>\n",
       "      <th>app_usage</th>\n",
       "      <th>sleep</th>\n",
       "    </tr>\n",
       "  </thead>\n",
       "  <tbody>\n",
       "    <tr>\n",
       "      <th>0</th>\n",
       "      <td>0</td>\n",
       "      <td>2018-08-05 15:05:30</td>\n",
       "      <td>-0.305134</td>\n",
       "      <td>-0.918191</td>\n",
       "      <td>1</td>\n",
       "      <td>0</td>\n",
       "    </tr>\n",
       "    <tr>\n",
       "      <th>1</th>\n",
       "      <td>0</td>\n",
       "      <td>2018-08-05 15:10:32</td>\n",
       "      <td>-0.290736</td>\n",
       "      <td>NaN</td>\n",
       "      <td>1</td>\n",
       "      <td>0</td>\n",
       "    </tr>\n",
       "    <tr>\n",
       "      <th>2</th>\n",
       "      <td>0</td>\n",
       "      <td>2018-08-05 15:15:32</td>\n",
       "      <td>-0.595398</td>\n",
       "      <td>NaN</td>\n",
       "      <td>1</td>\n",
       "      <td>0</td>\n",
       "    </tr>\n",
       "    <tr>\n",
       "      <th>3</th>\n",
       "      <td>0</td>\n",
       "      <td>2018-08-05 15:20:34</td>\n",
       "      <td>-0.545724</td>\n",
       "      <td>NaN</td>\n",
       "      <td>1</td>\n",
       "      <td>0</td>\n",
       "    </tr>\n",
       "    <tr>\n",
       "      <th>4</th>\n",
       "      <td>0</td>\n",
       "      <td>2018-08-05 15:25:34</td>\n",
       "      <td>0.033796</td>\n",
       "      <td>NaN</td>\n",
       "      <td>1</td>\n",
       "      <td>0</td>\n",
       "    </tr>\n",
       "  </tbody>\n",
       "</table>\n",
       "</div>"
      ],
      "text/plain": [
       "   seq_no                date  actigraphy     light  app_usage  sleep\n",
       "0       0 2018-08-05 15:05:30   -0.305134 -0.918191          1      0\n",
       "1       0 2018-08-05 15:10:32   -0.290736       NaN          1      0\n",
       "2       0 2018-08-05 15:15:32   -0.595398       NaN          1      0\n",
       "3       0 2018-08-05 15:20:34   -0.545724       NaN          1      0\n",
       "4       0 2018-08-05 15:25:34    0.033796       NaN          1      0"
      ]
     },
     "execution_count": 112,
     "metadata": {},
     "output_type": "execute_result"
    }
   ],
   "source": [
    "# load the training data - train.pickle contains a dataframe of 10 time series sequences of 286 - 289 observations\n",
    "# and the preprocessed training sequence list as well\n",
    "with open('data/train.pickle', 'rb') as f:\n",
    "    temp = pickle.load(open('data/train.pickle', 'rb'))\n",
    "    df = temp['all']\n",
    "    training_seq = temp['tr_seq']\n",
    "    \n",
    "df.head()"
   ]
  },
  {
   "cell_type": "markdown",
   "metadata": {},
   "source": [
    "## Training the model"
   ]
  },
  {
   "cell_type": "markdown",
   "metadata": {},
   "source": [
    "The HeterogeneousHMM class uses the following arguments for initialisation:\n",
    "- *n_states* (int) - the number of hidden states.\n",
    "- *n_g_emissions* (int) - the number of distinct Gaussian observations.\n",
    "- *n_d_emissions* (int) - the number of distinct discrete observations.\n",
    "- *n_d_features* (list - list of the number of possible observable symbols for each discrete emission.\n",
    "- *params* (string, optional) - controls which parameters are updated in the training process; defaults to all parameters.\n",
    "- *init_params* (string, optional) - controls which parameters are initialised prior to training; defaults to all parameters.\n",
    "- *init_type* (string, optional) - name of the initialisation method to use for initialising the model parameters before training; can be 'random' or 'kmeans'.\n",
    "- *nr_no_train_de* (int) - this number indicates the number of discrete emissions whose Matrix Emission Probabilities are fixed and are not trained; it is important to to order the observed variables such that the ones whose emissions aren't trained are the last ones. \n",
    "- *state_no_train_de* (int) - a state index for nr_no_train_de which shouldn't be updated; defaults to None, which means that the entire emission probability matrix for that discrete emission will be kept unchanged during training, otherwise the last state_no_train_de states won't be updated\n",
    "- *covariance_type* (string, optional) - string describing the type of covariance parameters to use.  Must be one of: 'diagonal', 'full', 'spherical' or 'tied'; defaults to 'diagonal'.\n",
    "- *pi_prior* (array, optional) - array of shape (n_states, ) setting the parameters of the Dirichlet prior distribution for 'pi'.\n",
    "- *A_prior* (array, optional) - array of shape (n_states, n_states), giving the parameters of the Dirichlet prior distribution for each row of the transition probabilities 'A'.\n",
    "- *means_prior, means_weight* (array, optional) - arrays of shape (n_states, 1) providing the mean and precision of the Normal prior distribution for the means.\n",
    "- *covars_prior, covars_weight* (array, optional) - shape (n_states, 1), provides the parameters of the prior distribution for the covariance matrix.\n",
    "- *min_covar* (float, optional)- floor on the diagonal of the covariance matrix to prevent overfitting. Defaults to 1e-3.\n",
    "- *learn_rate* (float, optional) - a value from the $[0,1)$ interval, controlling how much the past values of the model parameters count when computing the new model parameters during training; defaults to 0.\n",
    "- *verbose* (bool, optional) - flag to be set to True if per-iteration convergence reports should be printed during training.\n"
   ]
  },
  {
   "cell_type": "markdown",
   "metadata": {},
   "source": [
    "We create a model that will have 2 states (just to keep it simple), that will managed 2 features with gaussian distributions and 2 features as discrete observations. With the 'n_d_features' parameter we indicate the model that the two features that we want to manage as discrete are both binary. If, for example, the app usage could take three different values, the 'n_d_features' would be equal to [3,2].\n",
    "\n",
    "**The model also allows us to fix some of the discrete observations probabilities**: for example, if we want one of the states not to be reachable when the fitbit is equal to 1 (which means that the user is sleeping according to fitbit's data), we can fix the emission probability for one of the states to 1 when fitbit=1 and to 0 in the other case, **we do this  in the next section of code by accesing to my_hmm.B**. *Also, to indicate the model that we want it to not train this last feature, we set 'nr_no_train_de=1'* **(the last 'nr_no_train_de' are not trained but fixed to the original value)**. In case we don´t desire the model to fix certain probabilities of emission, 'nr_no_train_de' must be equal to zero, which means that the model will train all the emission probabilities."
   ]
  },
  {
   "cell_type": "code",
   "execution_count": 114,
   "metadata": {
    "ExecuteTime": {
     "end_time": "2020-03-10T12:43:32.996065Z",
     "start_time": "2020-03-10T12:42:34.669747Z"
    }
   },
   "outputs": [
    {
     "name": "stdout",
     "output_type": "stream",
     "text": [
      "Initialisation 1\n"
     ]
    },
    {
     "name": "stderr",
     "output_type": "stream",
     "text": [
      "C:\\Users\\Jiyan\\anaconda3\\Lib\\site-packages\\sklearn\\cluster\\_kmeans.py:1429: UserWarning: KMeans is known to have a memory leak on Windows with MKL, when there are less chunks than available threads. You can avoid it by setting the environment variable OMP_NUM_THREADS=2.\n",
      "  warnings.warn(\n"
     ]
    },
    {
     "name": "stdout",
     "output_type": "stream",
     "text": [
      "iter: 0, log_likelihood = -11427.374576011112, delta = nan\n",
      "iter: 1, log_likelihood = -6716.942364817294, delta = 4710.432211193818\n",
      "iter: 2, log_likelihood = -5780.38725261105, delta = 936.5551122062443\n",
      "iter: 3, log_likelihood = -5663.7164725437515, delta = 116.67078006729844\n",
      "iter: 4, log_likelihood = -5612.541430534461, delta = 51.17504200929034\n",
      "iter: 5, log_likelihood = -5577.0475999550845, delta = 35.49383057937666\n",
      "iter: 6, log_likelihood = -5551.443246734843, delta = 25.604353220241137\n",
      "iter: 7, log_likelihood = -5532.753374220423, delta = 18.68987251442013\n",
      "iter: 8, log_likelihood = -5518.939810061301, delta = 13.813564159122507\n",
      "iter: 9, log_likelihood = -5508.559681273193, delta = 10.380128788107868\n",
      "iter: 10, log_likelihood = -5500.59733559445, delta = 7.962345678743077\n",
      "iter: 11, log_likelihood = -5494.345159114941, delta = 6.252176479508307\n",
      "iter: 12, log_likelihood = -5489.312982229734, delta = 5.032176885207264\n",
      "iter: 13, log_likelihood = -5485.160362872391, delta = 4.15261935734361\n",
      "iter: 14, log_likelihood = -5481.648480084939, delta = 3.5118827874512135\n",
      "iter: 15, log_likelihood = -5478.607803380738, delta = 3.04067670420136\n",
      "iter: 16, log_likelihood = -5475.916926713855, delta = 2.690876666883014\n",
      "Converged -> iter: 16, log_likelihood = -5475.916926713855\n"
     ]
    },
    {
     "data": {
      "image/png": "[encoded data removed]",
      "text/plain": [
       "<Figure size 700x500 with 1 Axes>"
      ]
     },
     "metadata": {},
     "output_type": "display_data"
    },
    {
     "name": "stdout",
     "output_type": "stream",
     "text": [
      "Initialisation 2\n"
     ]
    },
    {
     "name": "stderr",
     "output_type": "stream",
     "text": [
      "C:\\Users\\Jiyan\\anaconda3\\Lib\\site-packages\\sklearn\\cluster\\_kmeans.py:1429: UserWarning: KMeans is known to have a memory leak on Windows with MKL, when there are less chunks than available threads. You can avoid it by setting the environment variable OMP_NUM_THREADS=2.\n",
      "  warnings.warn(\n"
     ]
    },
    {
     "name": "stdout",
     "output_type": "stream",
     "text": [
      "iter: 0, log_likelihood = -11350.802830816783, delta = nan\n",
      "iter: 1, log_likelihood = -6585.809247325842, delta = 4764.993583490941\n",
      "iter: 2, log_likelihood = -5773.429608633029, delta = 812.3796386928134\n",
      "iter: 3, log_likelihood = -5662.572046349546, delta = 110.85756228348237\n",
      "iter: 4, log_likelihood = -5613.034455333326, delta = 49.537591016220176\n",
      "iter: 5, log_likelihood = -5578.125428168257, delta = 34.90902716506935\n",
      "iter: 6, log_likelihood = -5552.852007163351, delta = 25.273421004905686\n",
      "iter: 7, log_likelihood = -5534.373813555863, delta = 18.47819360748781\n",
      "iter: 8, log_likelihood = -5520.696576459899, delta = 13.677237095964301\n",
      "iter: 9, log_likelihood = -5510.400721931015, delta = 10.295854528883865\n",
      "iter: 10, log_likelihood = -5502.485353236462, delta = 7.915368694552853\n",
      "iter: 11, log_likelihood = -5496.252399454293, delta = 6.232953782169716\n",
      "iter: 12, log_likelihood = -5491.218224605298, delta = 5.034174848994553\n",
      "iter: 13, log_likelihood = -5487.047551690195, delta = 4.170672915102841\n",
      "iter: 14, log_likelihood = -5483.506085290721, delta = 3.5414663994743023\n",
      "iter: 15, log_likelihood = -5480.428201949198, delta = 3.0778833415224653\n",
      "iter: 16, log_likelihood = -5477.695625508753, delta = 2.732576440444973\n",
      "Converged -> iter: 16, log_likelihood = -5477.695625508753\n"
     ]
    },
    {
     "data": {
      "image/png": "[encoded data removed]",
      "text/plain": [
       "<Figure size 700x500 with 1 Axes>"
      ]
     },
     "metadata": {},
     "output_type": "display_data"
    },
    {
     "name": "stdout",
     "output_type": "stream",
     "text": [
      "Initialisation 3\n"
     ]
    },
    {
     "name": "stderr",
     "output_type": "stream",
     "text": [
      "C:\\Users\\Jiyan\\anaconda3\\Lib\\site-packages\\sklearn\\cluster\\_kmeans.py:1429: UserWarning: KMeans is known to have a memory leak on Windows with MKL, when there are less chunks than available threads. You can avoid it by setting the environment variable OMP_NUM_THREADS=2.\n",
      "  warnings.warn(\n"
     ]
    },
    {
     "name": "stdout",
     "output_type": "stream",
     "text": [
      "iter: 0, log_likelihood = -12242.265553565809, delta = nan\n",
      "iter: 1, log_likelihood = -6278.20710152069, delta = 5964.058452045118\n",
      "iter: 2, log_likelihood = -5737.532738421583, delta = 540.6743630991068\n",
      "iter: 3, log_likelihood = -5662.112452906983, delta = 75.42028551460044\n",
      "iter: 4, log_likelihood = -5614.514450768412, delta = 47.598002138571246\n",
      "iter: 5, log_likelihood = -5579.84576386265, delta = 34.668686905762115\n",
      "iter: 6, log_likelihood = -5554.577649546087, delta = 25.268114316562787\n",
      "iter: 7, log_likelihood = -5536.065829011973, delta = 18.511820534114122\n",
      "iter: 8, log_likelihood = -5522.350797296067, delta = 13.715031715905752\n",
      "iter: 9, log_likelihood = -5512.018625332009, delta = 10.332171964058034\n",
      "iter: 10, log_likelihood = -5504.068309653723, delta = 7.950315678285733\n",
      "iter: 11, log_likelihood = -5497.800481986125, delta = 6.267827667597885\n",
      "iter: 12, log_likelihood = -5492.730297028562, delta = 5.07018495756347\n",
      "iter: 13, log_likelihood = -5488.521941872903, delta = 4.2083551556588645\n",
      "iter: 14, log_likelihood = -5484.941345456386, delta = 3.580596416516528\n",
      "iter: 15, log_likelihood = -5481.823578912655, delta = 3.1177665437317046\n",
      "iter: 16, log_likelihood = -5479.05116844211, delta = 2.7724104705448553\n",
      "Converged -> iter: 16, log_likelihood = -5479.05116844211\n"
     ]
    },
    {
     "data": {
      "image/png": "[encoded data removed]",
      "text/plain": [
       "<Figure size 700x500 with 1 Axes>"
      ]
     },
     "metadata": {},
     "output_type": "display_data"
    },
    {
     "name": "stdout",
     "output_type": "stream",
     "text": [
      "Priors\n",
      "+--------------+--------------+\n",
      "|     S_0      |     S_1      |\n",
      "+--------------+--------------+\n",
      "| P(S_0)=0.815 | P(S_1)=0.185 |\n",
      "+--------------+--------------+\n",
      "Transitions\n",
      "+-----+------------------+------------------+\n",
      "|  _  |       S_0        |       S_1        |\n",
      "+-----+------------------+------------------+\n",
      "| S_0 | P(S_0|S_0)=0.955 | P(S_1|S_0)=0.045 |\n",
      "| S_1 | P(S_0|S_1)=0.061 | P(S_1|S_1)=0.939 |\n",
      "+-----+------------------+------------------+\n",
      "Means\n",
      "+-----+--------+--------+\n",
      "|  _  |  GE_0  |  GE_1  |\n",
      "+-----+--------+--------+\n",
      "| S_0 | 0.331  | -0.113 |\n",
      "| S_1 | -0.456 | 0.909  |\n",
      "+-----+--------+--------+\n",
      "Covariances\n",
      "S_0\n",
      "+------+-------+-------+\n",
      "|  _   |  GE_0 |  GE_1 |\n",
      "+------+-------+-------+\n",
      "| GE_0 | 1.359 | 0.000 |\n",
      "| GE_1 | 0.000 | 0.176 |\n",
      "+------+-------+-------+\n",
      "S_1\n",
      "+------+-------+-------+\n",
      "|  _   |  GE_0 |  GE_1 |\n",
      "+------+-------+-------+\n",
      "| GE_0 | 0.147 | 0.000 |\n",
      "| GE_1 | 0.000 | 0.016 |\n",
      "+------+-------+-------+\n",
      "Emissions\n",
      "+-----+--------------------+--------------------+\n",
      "|  _  |       DE_00        |       DE_01        |\n",
      "+-----+--------------------+--------------------+\n",
      "| S_0 | P(DE_00|S_0)=0.429 | P(DE_01|S_0)=0.571 |\n",
      "| S_1 | P(DE_00|S_1)=0.849 | P(DE_01|S_1)=0.151 |\n",
      "+-----+--------------------+--------------------+\n",
      "+-----+--------------------+--------------------+\n",
      "|  _  |       DE_10        |       DE_11        |\n",
      "+-----+--------------------+--------------------+\n",
      "| S_0 | P(DE_10|S_0)=1.000 | P(DE_11|S_0)=0.000 |\n",
      "| S_1 | P(DE_10|S_1)=0.000 | P(DE_11|S_1)=1.000 |\n",
      "+-----+--------------------+--------------------+\n"
     ]
    }
   ],
   "source": [
    "# instantiate a HeterogeneousHMM object\n",
    "my_hmm = HeterogeneousHMM(\n",
    "        n_states=2,\n",
    "        n_g_emissions=2,\n",
    "        n_d_emissions=2,\n",
    "        n_d_features=[2, 2],\n",
    "        covariance_type='diagonal',\n",
    "        nr_no_train_de=1,\n",
    "        verbose=True,\n",
    "    )\n",
    "\n",
    "# we want to fix the emission probabilities for the sleep parameter, so we need to manually initialise the \n",
    "# B matrix before the fitting; so for the first emissions, since we have no prior knowledge on it, we uniformly\n",
    "# initialise the emission probablities, and for the second one we set it to the desired value\n",
    "my_hmm.B = [0.5*np.ones((2,2)), np.eye(2)]\n",
    "\n",
    "# train the model to estimate the parameters\n",
    "my_hmm, log_likelihood = my_hmm.train(\n",
    "    training_seq, n_init=3, n_iter=50, conv_thresh=0.001, conv_iter=5, plot_log_likelihood=True,\n",
    ")\n",
    "\n",
    "# print model parameters\n",
    "hu.pretty_print_hmm(my_hmm, hmm_type='Heterogeneous')"
   ]
  },
  {
   "cell_type": "markdown",
   "metadata": {},
   "source": [
    "As you can see in the previous table, the emission proabilities of the second discrete feature (fitbit data) has been fixed to 0 and 1 values during the training as we indicate with the 'nr_no_train_de' variable during initialization. **It is also possible to partially training the emission probabilities to let the model train the probabilities for certain states while fixing those probability values for the rest of the states**, to do so, the variable **'state_no_train_de'** must be used."
   ]
  },
  {
   "cell_type": "markdown",
   "metadata": {},
   "source": [
    "## Sequence decoding"
   ]
  },
  {
   "cell_type": "code",
   "execution_count": 12,
   "metadata": {
    "ExecuteTime": {
     "end_time": "2020-03-10T13:56:59.617791Z",
     "start_time": "2020-03-10T13:56:56.420864Z"
    }
   },
   "outputs": [
    {
     "name": "stderr",
     "output_type": "stream",
     "text": [
      "/Users/esukei/opt/miniconda3/envs/hmm_env/lib/python3.7/site-packages/pyhhmm/utils.py:463: UserWarning: FixedFormatter should only be used together with FixedLocator\n",
      "  for ts in time_stamps])\n",
      "/Users/esukei/opt/miniconda3/envs/hmm_env/lib/python3.7/site-packages/pyhhmm/utils.py:463: UserWarning: FixedFormatter should only be used together with FixedLocator\n",
      "  for ts in time_stamps])\n",
      "/Users/esukei/opt/miniconda3/envs/hmm_env/lib/python3.7/site-packages/pyhhmm/utils.py:463: UserWarning: FixedFormatter should only be used together with FixedLocator\n",
      "  for ts in time_stamps])\n",
      "/Users/esukei/opt/miniconda3/envs/hmm_env/lib/python3.7/site-packages/pyhhmm/utils.py:463: UserWarning: FixedFormatter should only be used together with FixedLocator\n",
      "  for ts in time_stamps])\n"
     ]
    },
    {
     "data": {
      "image/png": "[encoded data removed]",
      "text/plain": [
       "<Figure size 1080x720 with 4 Axes>"
      ]
     },
     "metadata": {},
     "output_type": "display_data"
    }
   ],
   "source": [
    "# decode a training sequences\n",
    "logL, state_seq = my_hmm.decode([training_seq[0]], algorithm='viterbi')\n",
    "\n",
    "hu.plot_decode(\n",
    "    training_seq[0], \n",
    "    ['actigraphy', 'light', 'app_usage', 'sleep'], \n",
    "    state_seq[0], \n",
    "    discrete_columns=['app_usage', 'sleep'], \n",
    "    time_stamps=df[df['seq_no'] == 0]['date'],\n",
    "    figsize=(15, 10)\n",
    ")\n",
    "               "
   ]
  },
  {
   "cell_type": "markdown",
   "metadata": {},
   "source": [
    "In the previous figure we can observe that the model has clearly associated the state 1 to being sleep because we fixed the emission probabilities to p(state_1 | being_sleep)=1 and p(state_1 | being_awake)=0. This way, we get the model to train the rest of the parameters in order to that state to represent the sleep of the users. If we hadn´t fix those probabilities, the emission probability matrix of both of the state for the sleep feature would have been trained from scratch."
   ]
  }
 ],
 "metadata": {
  "interpreter": {
   "hash": "2f8b5f7be5eb1c5719a58d3b29660143adeaff0189ca00a4e1d1261291acb543"
  },
  "kernelspec": {
   "display_name": "Python 3 (ipykernel)",
   "language": "python",
   "name": "python3"
  },
  "language_info": {
   "codemirror_mode": {
    "name": "ipython",
    "version": 3
   },
   "file_extension": ".py",
   "mimetype": "text/x-python",
   "name": "python",
   "nbconvert_exporter": "python",
   "pygments_lexer": "ipython3",
   "version": "3.12.7"
  },
  "latex_envs": {
   "LaTeX_envs_menu_present": true,
   "autoclose": false,
   "autocomplete": true,
   "bibliofile": "biblio.bib",
   "cite_by": "apalike",
   "current_citInitial": 1,
   "eqLabelWithNumbers": true,
   "eqNumInitial": 1,
   "hotkeys": {
    "equation": "Ctrl-E",
    "itemize": "Ctrl-I"
   },
   "labels_anchors": false,
   "latex_user_defs": false,
   "report_style_numbering": false,
   "user_envs_cfg": false
  },
  "toc": {
   "base_numbering": 1,
   "nav_menu": {},
   "number_sections": true,
   "sideBar": true,
   "skip_h1_title": false,
   "title_cell": "Table of Contents",
   "title_sidebar": "Contents",
   "toc_cell": false,
   "toc_position": {},
   "toc_section_display": true,
   "toc_window_display": true
  },
  "varInspector": {
   "cols": {
    "lenName": 16,
    "lenType": 16,
    "lenVar": 40
   },
   "kernels_config": {
    "python": {
     "delete_cmd_postfix": "",
     "delete_cmd_prefix": "del ",
     "library": "var_list.py",
     "varRefreshCmd": "print(var_dic_list())"
    },
    "r": {
     "delete_cmd_postfix": ") ",
     "delete_cmd_prefix": "rm(",
     "library": "var_list.r",
     "varRefreshCmd": "cat(var_dic_list()) "
    }
   },
   "position": {
    "height": "382.535px",
    "left": "896.747px",
    "right": "20px",
    "top": "87.9653px",
    "width": "557.066px"
   },
   "types_to_exclude": [
    "module",
    "function",
    "builtin_function_or_method",
    "instance",
    "_Feature"
   ],
   "window_display": false
  }
 },
 "nbformat": 4,
 "nbformat_minor": 4
}
